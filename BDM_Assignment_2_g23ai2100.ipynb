{
  "nbformat": 4,
  "nbformat_minor": 0,
  "metadata": {
    "colab": {
      "provenance": []
    },
    "kernelspec": {
      "name": "python3",
      "display_name": "Python 3"
    },
    "language_info": {
      "name": "python"
    }
  },
  "cells": [
    {
      "cell_type": "code",
      "execution_count": 1,
      "metadata": {
        "colab": {
          "base_uri": "https://localhost:8080/"
        },
        "id": "ctsnBUqsuldX",
        "outputId": "74d8a799-cd18-4df0-a502-43ac4074c85c"
      },
      "outputs": [
        {
          "output_type": "stream",
          "name": "stdout",
          "text": [
            "Collecting pysqlite3\n",
            "  Downloading pysqlite3-0.5.4.tar.gz (40 kB)\n",
            "\u001b[?25l     \u001b[90m━━━━━━━━━━━━━━━━━━━━━━━━━━━━━━━━━━━━━━━━\u001b[0m \u001b[32m0.0/40.7 kB\u001b[0m \u001b[31m?\u001b[0m eta \u001b[36m-:--:--\u001b[0m\r\u001b[2K     \u001b[90m━━━━━━━━━━━━━━━━━━━━━━━━━━━━━━━━━━━━━━━━\u001b[0m \u001b[32m40.7/40.7 kB\u001b[0m \u001b[31m1.9 MB/s\u001b[0m eta \u001b[36m0:00:00\u001b[0m\n",
            "\u001b[?25h  Preparing metadata (setup.py) ... \u001b[?25l\u001b[?25hdone\n",
            "Building wheels for collected packages: pysqlite3\n",
            "  Building wheel for pysqlite3 (setup.py) ... \u001b[?25l\u001b[?25hdone\n",
            "  Created wheel for pysqlite3: filename=pysqlite3-0.5.4-cp310-cp310-linux_x86_64.whl size=151321 sha256=0e32f4655a4dcd0456c6185e50358eb92b996a53e9c51125e7766eb0a0419043\n",
            "  Stored in directory: /root/.cache/pip/wheels/04/55/74/e3b53aeb9ff9e933626ee3938ccad69123828115ae34ce028e\n",
            "Successfully built pysqlite3\n",
            "Installing collected packages: pysqlite3\n",
            "Successfully installed pysqlite3-0.5.4\n"
          ]
        }
      ],
      "source": [
        "!pip install pysqlite3"
      ]
    },
    {
      "cell_type": "code",
      "source": [
        "from pysqlite3 import dbapi2 as sqlite3\n",
        "print(sqlite3.sqlite_version_info)"
      ],
      "metadata": {
        "colab": {
          "base_uri": "https://localhost:8080/"
        },
        "id": "sUoSFGYCuzQ6",
        "outputId": "2c74465c-7c0c-4f8d-d38a-a0d393759c09"
      },
      "execution_count": 2,
      "outputs": [
        {
          "output_type": "stream",
          "name": "stdout",
          "text": [
            "(3, 37, 2)\n"
          ]
        }
      ]
    },
    {
      "cell_type": "code",
      "source": [
        "import pandas as pd\n",
        "from IPython.display import display, HTML"
      ],
      "metadata": {
        "id": "xBvixzetvDXm"
      },
      "execution_count": 3,
      "outputs": []
    },
    {
      "cell_type": "code",
      "source": [
        "dbname = \"music_streaming_1.db\"\n",
        "\n",
        "def printSqlResults(cursor, tbl):\n",
        "  df=pd.DataFrame(cursor.fetchall(), columns=[i[0] for i in cursor.description])\n",
        "  display(HTML(\"<b><font color=Green>\"+tbl+\"</font></b>\"+df.to_html(index=False)))\n",
        "\n",
        "def runSql(caption, query):\n",
        "  conn = sqlite3.connect(dbname)\n",
        "  cursor=conn.cursor()\n",
        "  cursor.execute(query)\n",
        "  printSqlResults(cursor,caption)\n",
        "  conn.close()"
      ],
      "metadata": {
        "id": "p5qxWYqEvK5z"
      },
      "execution_count": 4,
      "outputs": []
    },
    {
      "cell_type": "code",
      "source": [
        "conn = sqlite3.connect(dbname)\n",
        "cursor = conn.cursor()\n",
        "\n",
        "cursor.execute(\"\"\"\n",
        "      CREATE TABLE IF NOT EXISTS Users (\n",
        "        user_id INTEGER PRIMARY KEY,\n",
        "        name VARCHAR(100) NOT NULL,\n",
        "        email VARCHAR(100) NOT NULL UNIQUE\n",
        "      );\n",
        "\"\"\")\n",
        "\n",
        "cursor.execute(\"\"\"\n",
        "  CREATE TABLE IF NOT EXISTS Songs (\n",
        "    song_id INTEGER PRIMARY KEY,\n",
        "    title VARCHAR(100) NOT NULL,\n",
        "    artist VARCHAR(100) NOT NULL,\n",
        "    genre VARCHAR(100)\n",
        "  );\n",
        "\"\"\"\n",
        ")\n",
        "\n",
        "cursor.execute(\"\"\"\n",
        "    CREATE TABLE IF NOT EXISTS Listens (\n",
        "      listen_id INTEGER PRIMARY KEY,\n",
        "      user_id INTEGER NOT NULL,\n",
        "      song_id INTEGER NOT NULL,\n",
        "      rating FLOAT,\n",
        "      listen_time TIMESTAMP,\n",
        "      FOREIGN KEY (user_id) REFERENCES Users(user_id),\n",
        "      FOREIGN KEY (song_id) REFERENCES Songs(song_id)\n",
        "    );\n",
        "\"\"\")\n",
        "\n",
        "cursor.execute(\"\"\"\n",
        "  CREATE TABLE IF NOT EXISTS Recommendations (\n",
        "      recommendation_id INTEGER NOT NULL,\n",
        "      recommendation_time TIMESTAMP,\n",
        "      user_id INTEGER NOT NULL,\n",
        "      song_id INTEGER NOT NULL,\n",
        "      FOREIGN KEY (user_id) REFERENCES Users(user_id),\n",
        "      FOREIGN KEY (song_id) REFERENCES Songs(song_id)\n",
        "  );\n",
        "\"\"\")\n",
        "\n",
        "conn.commit()\n",
        "conn.close()"
      ],
      "metadata": {
        "id": "wXo3al1YwXn4"
      },
      "execution_count": 5,
      "outputs": []
    },
    {
      "cell_type": "code",
      "source": [
        "conn = sqlite3.connect(dbname)\n",
        "sqlite3.enable_callback_tracebacks(True)\n",
        "\n",
        "cursor=conn.cursor()\n",
        "cursor.execute(\"delete from Songs;\")\n",
        "cursor.execute(\"delete from Users;\")\n",
        "cursor.execute(\"delete from Listens;\")\n",
        "cursor.execute(\"delete from Recommendations;\")\n",
        "\n",
        "#Insert data into the table\n",
        "\n",
        "cursor.execute(\"\"\"\n",
        "  INSERT INTO Users (user_id, name, email)\n",
        "  VALUES\n",
        "    (1, 'Mickey', 'mickey@example.com'),\n",
        "    (2, 'Minnie', 'minnie@example.com'),\n",
        "    (3, 'Daffy', 'daffy@example.com'),\n",
        "    (4, 'Pluto', 'pluto@example.com');\n",
        "\"\"\")\n",
        "# Insert sample songs from Taylor Swift, Ed Sheeran, Beatles\n",
        "cursor.execute(\"\"\"\n",
        "INSERT INTO Songs (song_id, title, artist, genre)\n",
        "VALUES\n",
        "    (1, 'Evermore', 'Taylor Swift', 'Pop'),\n",
        "    (2, 'Willow', 'Taylor Swift', 'Pop'),\n",
        "    (3, 'Shape of You', 'Ed Sheeran', 'Rock'),\n",
        "    (4, 'Photograph', 'Ed Sheeran', 'Rock'),\n",
        "    (5, 'Shivers', 'Ed Sheeran', 'Rock'),\n",
        "    (6, 'Yesterday', 'Beatles', 'Classic'),\n",
        "    (7, 'Yellow Submarine', 'Beatles', 'Classic'),\n",
        "    (8, 'Hey Jude', 'Beatles', 'Classic'),\n",
        "    (9, 'Bad Blood', 'Taylor Swift', 'Rock'),\n",
        "    (10, 'DJ Mix', 'DJ', NULL);\n",
        "\"\"\")\n",
        "\n",
        "# Insert sample listens\n",
        "cursor.execute(\"\"\"\n",
        "INSERT INTO Listens (listen_id, user_id, song_id, rating, listen_time)\n",
        "VALUES\n",
        "    (1, 1, 1, 4.5, '2024-08-30 14:35:00'),\n",
        "    (2, 1, 2, 4.2, NULL),\n",
        "    (3, 1, 6, 3.9, '2024-08-29 10:15:00'),\n",
        "    (4, 2, 2, 4.7, NULL),\n",
        "    (5, 2, 7, 4.6, '2024-08-28 09:20:00'),\n",
        "    (6, 2, 8, 3.9, '2024-08-27 16:45:00'),\n",
        "    (7, 3, 1, 2.9, NULL),\n",
        "    (8, 3, 2, 4.9, '2024-08-26 12:30:00'),\n",
        "    (9, 3, 6, NULL, NULL);\n",
        "\"\"\")\n",
        "\n",
        "# Commit changes and close the connection\n",
        "conn.commit()\n",
        "conn.close()\n",
        "\n",
        "runSql('Users', \"select * from Users;\")\n",
        "runSql('Songs', \"select * from Songs;\")\n",
        "runSql('Listens', \"select * from Listens;\")"
      ],
      "metadata": {
        "colab": {
          "base_uri": "https://localhost:8080/",
          "height": 887
        },
        "id": "6JzFr1NVzC03",
        "outputId": "2eccaa65-d731-4cf2-e220-111607e7552c"
      },
      "execution_count": 6,
      "outputs": [
        {
          "output_type": "display_data",
          "data": {
            "text/plain": [
              "<IPython.core.display.HTML object>"
            ],
            "text/html": [
              "<b><font color=Green>Users</font></b><table border=\"1\" class=\"dataframe\">\n",
              "  <thead>\n",
              "    <tr style=\"text-align: right;\">\n",
              "      <th>user_id</th>\n",
              "      <th>name</th>\n",
              "      <th>email</th>\n",
              "    </tr>\n",
              "  </thead>\n",
              "  <tbody>\n",
              "    <tr>\n",
              "      <td>1</td>\n",
              "      <td>Mickey</td>\n",
              "      <td>mickey@example.com</td>\n",
              "    </tr>\n",
              "    <tr>\n",
              "      <td>2</td>\n",
              "      <td>Minnie</td>\n",
              "      <td>minnie@example.com</td>\n",
              "    </tr>\n",
              "    <tr>\n",
              "      <td>3</td>\n",
              "      <td>Daffy</td>\n",
              "      <td>daffy@example.com</td>\n",
              "    </tr>\n",
              "    <tr>\n",
              "      <td>4</td>\n",
              "      <td>Pluto</td>\n",
              "      <td>pluto@example.com</td>\n",
              "    </tr>\n",
              "  </tbody>\n",
              "</table>"
            ]
          },
          "metadata": {}
        },
        {
          "output_type": "display_data",
          "data": {
            "text/plain": [
              "<IPython.core.display.HTML object>"
            ],
            "text/html": [
              "<b><font color=Green>Songs</font></b><table border=\"1\" class=\"dataframe\">\n",
              "  <thead>\n",
              "    <tr style=\"text-align: right;\">\n",
              "      <th>song_id</th>\n",
              "      <th>title</th>\n",
              "      <th>artist</th>\n",
              "      <th>genre</th>\n",
              "    </tr>\n",
              "  </thead>\n",
              "  <tbody>\n",
              "    <tr>\n",
              "      <td>1</td>\n",
              "      <td>Evermore</td>\n",
              "      <td>Taylor Swift</td>\n",
              "      <td>Pop</td>\n",
              "    </tr>\n",
              "    <tr>\n",
              "      <td>2</td>\n",
              "      <td>Willow</td>\n",
              "      <td>Taylor Swift</td>\n",
              "      <td>Pop</td>\n",
              "    </tr>\n",
              "    <tr>\n",
              "      <td>3</td>\n",
              "      <td>Shape of You</td>\n",
              "      <td>Ed Sheeran</td>\n",
              "      <td>Rock</td>\n",
              "    </tr>\n",
              "    <tr>\n",
              "      <td>4</td>\n",
              "      <td>Photograph</td>\n",
              "      <td>Ed Sheeran</td>\n",
              "      <td>Rock</td>\n",
              "    </tr>\n",
              "    <tr>\n",
              "      <td>5</td>\n",
              "      <td>Shivers</td>\n",
              "      <td>Ed Sheeran</td>\n",
              "      <td>Rock</td>\n",
              "    </tr>\n",
              "    <tr>\n",
              "      <td>6</td>\n",
              "      <td>Yesterday</td>\n",
              "      <td>Beatles</td>\n",
              "      <td>Classic</td>\n",
              "    </tr>\n",
              "    <tr>\n",
              "      <td>7</td>\n",
              "      <td>Yellow Submarine</td>\n",
              "      <td>Beatles</td>\n",
              "      <td>Classic</td>\n",
              "    </tr>\n",
              "    <tr>\n",
              "      <td>8</td>\n",
              "      <td>Hey Jude</td>\n",
              "      <td>Beatles</td>\n",
              "      <td>Classic</td>\n",
              "    </tr>\n",
              "    <tr>\n",
              "      <td>9</td>\n",
              "      <td>Bad Blood</td>\n",
              "      <td>Taylor Swift</td>\n",
              "      <td>Rock</td>\n",
              "    </tr>\n",
              "    <tr>\n",
              "      <td>10</td>\n",
              "      <td>DJ Mix</td>\n",
              "      <td>DJ</td>\n",
              "      <td>None</td>\n",
              "    </tr>\n",
              "  </tbody>\n",
              "</table>"
            ]
          },
          "metadata": {}
        },
        {
          "output_type": "display_data",
          "data": {
            "text/plain": [
              "<IPython.core.display.HTML object>"
            ],
            "text/html": [
              "<b><font color=Green>Listens</font></b><table border=\"1\" class=\"dataframe\">\n",
              "  <thead>\n",
              "    <tr style=\"text-align: right;\">\n",
              "      <th>listen_id</th>\n",
              "      <th>user_id</th>\n",
              "      <th>song_id</th>\n",
              "      <th>rating</th>\n",
              "      <th>listen_time</th>\n",
              "    </tr>\n",
              "  </thead>\n",
              "  <tbody>\n",
              "    <tr>\n",
              "      <td>1</td>\n",
              "      <td>1</td>\n",
              "      <td>1</td>\n",
              "      <td>4.5</td>\n",
              "      <td>2024-08-30 14:35:00</td>\n",
              "    </tr>\n",
              "    <tr>\n",
              "      <td>2</td>\n",
              "      <td>1</td>\n",
              "      <td>2</td>\n",
              "      <td>4.2</td>\n",
              "      <td>None</td>\n",
              "    </tr>\n",
              "    <tr>\n",
              "      <td>3</td>\n",
              "      <td>1</td>\n",
              "      <td>6</td>\n",
              "      <td>3.9</td>\n",
              "      <td>2024-08-29 10:15:00</td>\n",
              "    </tr>\n",
              "    <tr>\n",
              "      <td>4</td>\n",
              "      <td>2</td>\n",
              "      <td>2</td>\n",
              "      <td>4.7</td>\n",
              "      <td>None</td>\n",
              "    </tr>\n",
              "    <tr>\n",
              "      <td>5</td>\n",
              "      <td>2</td>\n",
              "      <td>7</td>\n",
              "      <td>4.6</td>\n",
              "      <td>2024-08-28 09:20:00</td>\n",
              "    </tr>\n",
              "    <tr>\n",
              "      <td>6</td>\n",
              "      <td>2</td>\n",
              "      <td>8</td>\n",
              "      <td>3.9</td>\n",
              "      <td>2024-08-27 16:45:00</td>\n",
              "    </tr>\n",
              "    <tr>\n",
              "      <td>7</td>\n",
              "      <td>3</td>\n",
              "      <td>1</td>\n",
              "      <td>2.9</td>\n",
              "      <td>None</td>\n",
              "    </tr>\n",
              "    <tr>\n",
              "      <td>8</td>\n",
              "      <td>3</td>\n",
              "      <td>2</td>\n",
              "      <td>4.9</td>\n",
              "      <td>2024-08-26 12:30:00</td>\n",
              "    </tr>\n",
              "    <tr>\n",
              "      <td>9</td>\n",
              "      <td>3</td>\n",
              "      <td>6</td>\n",
              "      <td>NaN</td>\n",
              "      <td>None</td>\n",
              "    </tr>\n",
              "  </tbody>\n",
              "</table>"
            ]
          },
          "metadata": {}
        }
      ]
    },
    {
      "cell_type": "code",
      "source": [
        "qry_classic_songs = \"\"\"\n",
        "SELECT Songs.title, Songs.artist FROM Songs\n",
        "WHERE Songs.genre= 'Classic';\n",
        "\"\"\"\n",
        "runSql('Classic Query', qry_classic_songs)"
      ],
      "metadata": {
        "colab": {
          "base_uri": "https://localhost:8080/",
          "height": 161
        },
        "id": "XB-ive_HXK5v",
        "outputId": "5aa29deb-6b3d-4e3c-ea78-028b5aba418a"
      },
      "execution_count": 7,
      "outputs": [
        {
          "output_type": "display_data",
          "data": {
            "text/plain": [
              "<IPython.core.display.HTML object>"
            ],
            "text/html": [
              "<b><font color=Green>Classic Query</font></b><table border=\"1\" class=\"dataframe\">\n",
              "  <thead>\n",
              "    <tr style=\"text-align: right;\">\n",
              "      <th>title</th>\n",
              "      <th>artist</th>\n",
              "    </tr>\n",
              "  </thead>\n",
              "  <tbody>\n",
              "    <tr>\n",
              "      <td>Yesterday</td>\n",
              "      <td>Beatles</td>\n",
              "    </tr>\n",
              "    <tr>\n",
              "      <td>Yellow Submarine</td>\n",
              "      <td>Beatles</td>\n",
              "    </tr>\n",
              "    <tr>\n",
              "      <td>Hey Jude</td>\n",
              "      <td>Beatles</td>\n",
              "    </tr>\n",
              "  </tbody>\n",
              "</table>"
            ]
          },
          "metadata": {}
        }
      ]
    },
    {
      "cell_type": "code",
      "source": [
        "#Find titles and artists if songs in Classic Genre with titles starting like Ye...\n",
        "\n",
        "qry_classic_songs2 = \"\"\"\n",
        "SELECT Songs.title, Songs.artist FROM Songs\n",
        "WHERE Songs.genre= 'Classic' AND\n",
        "  Songs.title LIKE 'Ye%';\n",
        "\"\"\"\n",
        "runSql('Classic Query with songs like Ye..', qry_classic_songs2)"
      ],
      "metadata": {
        "colab": {
          "base_uri": "https://localhost:8080/",
          "height": 129
        },
        "id": "pO8Ok1MuX1XH",
        "outputId": "2a5b15a9-e892-4ab9-a3f2-7d2ce8675320"
      },
      "execution_count": 8,
      "outputs": [
        {
          "output_type": "display_data",
          "data": {
            "text/plain": [
              "<IPython.core.display.HTML object>"
            ],
            "text/html": [
              "<b><font color=Green>Classic Query with songs like Ye..</font></b><table border=\"1\" class=\"dataframe\">\n",
              "  <thead>\n",
              "    <tr style=\"text-align: right;\">\n",
              "      <th>title</th>\n",
              "      <th>artist</th>\n",
              "    </tr>\n",
              "  </thead>\n",
              "  <tbody>\n",
              "    <tr>\n",
              "      <td>Yesterday</td>\n",
              "      <td>Beatles</td>\n",
              "    </tr>\n",
              "    <tr>\n",
              "      <td>Yellow Submarine</td>\n",
              "      <td>Beatles</td>\n",
              "    </tr>\n",
              "  </tbody>\n",
              "</table>"
            ]
          },
          "metadata": {}
        }
      ]
    },
    {
      "cell_type": "code",
      "source": [
        "#List all the genres in the Songs table\n",
        "qry_genres = \"\"\"\n",
        "SELECT genre from Songs;\n",
        "\"\"\"\n",
        "runSql('All genres', qry_genres)"
      ],
      "metadata": {
        "colab": {
          "base_uri": "https://localhost:8080/",
          "height": 380
        },
        "id": "4ba6XEMhYgPP",
        "outputId": "cf855054-5ad7-4889-e2a9-73cab681d5a0"
      },
      "execution_count": 9,
      "outputs": [
        {
          "output_type": "display_data",
          "data": {
            "text/plain": [
              "<IPython.core.display.HTML object>"
            ],
            "text/html": [
              "<b><font color=Green>All genres</font></b><table border=\"1\" class=\"dataframe\">\n",
              "  <thead>\n",
              "    <tr style=\"text-align: right;\">\n",
              "      <th>genre</th>\n",
              "    </tr>\n",
              "  </thead>\n",
              "  <tbody>\n",
              "    <tr>\n",
              "      <td>Pop</td>\n",
              "    </tr>\n",
              "    <tr>\n",
              "      <td>Pop</td>\n",
              "    </tr>\n",
              "    <tr>\n",
              "      <td>Rock</td>\n",
              "    </tr>\n",
              "    <tr>\n",
              "      <td>Rock</td>\n",
              "    </tr>\n",
              "    <tr>\n",
              "      <td>Rock</td>\n",
              "    </tr>\n",
              "    <tr>\n",
              "      <td>Classic</td>\n",
              "    </tr>\n",
              "    <tr>\n",
              "      <td>Classic</td>\n",
              "    </tr>\n",
              "    <tr>\n",
              "      <td>Classic</td>\n",
              "    </tr>\n",
              "    <tr>\n",
              "      <td>Rock</td>\n",
              "    </tr>\n",
              "    <tr>\n",
              "      <td>None</td>\n",
              "    </tr>\n",
              "  </tbody>\n",
              "</table>"
            ]
          },
          "metadata": {}
        }
      ]
    },
    {
      "cell_type": "code",
      "source": [
        "#Find the unique genres from the Songs table\n",
        "\n",
        "qry_distinct = \"\"\"\n",
        "SELECT DISTINCT genre\n",
        "FROM Songs;\n",
        "\"\"\"\n",
        "\n",
        "runSql('Distinct Genres', qry_distinct)"
      ],
      "metadata": {
        "colab": {
          "base_uri": "https://localhost:8080/",
          "height": 192
        },
        "id": "FFirMlWqYzEg",
        "outputId": "7c7e2591-f002-44d3-d444-6ecb3a479792"
      },
      "execution_count": 10,
      "outputs": [
        {
          "output_type": "display_data",
          "data": {
            "text/plain": [
              "<IPython.core.display.HTML object>"
            ],
            "text/html": [
              "<b><font color=Green>Distinct Genres</font></b><table border=\"1\" class=\"dataframe\">\n",
              "  <thead>\n",
              "    <tr style=\"text-align: right;\">\n",
              "      <th>genre</th>\n",
              "    </tr>\n",
              "  </thead>\n",
              "  <tbody>\n",
              "    <tr>\n",
              "      <td>Pop</td>\n",
              "    </tr>\n",
              "    <tr>\n",
              "      <td>Rock</td>\n",
              "    </tr>\n",
              "    <tr>\n",
              "      <td>Classic</td>\n",
              "    </tr>\n",
              "    <tr>\n",
              "      <td>None</td>\n",
              "    </tr>\n",
              "  </tbody>\n",
              "</table>"
            ]
          },
          "metadata": {}
        }
      ]
    },
    {
      "cell_type": "code",
      "source": [
        "#Find the number of songs by Taylor Swift in different genres\n",
        "\n",
        "qry_taylor_count=\"\"\"\n",
        "SELECT artist, genre,count(*) as num_songs\n",
        "FROM Songs\n",
        "WHERE Songs.artist='Taylor Swift'\n",
        "GROUP BY artist, genre;\n",
        "\"\"\"\n",
        "runSql('Count of songs by Taylor Swift in different genres', qry_taylor_count)"
      ],
      "metadata": {
        "colab": {
          "base_uri": "https://localhost:8080/",
          "height": 129
        },
        "id": "AoxzZqg4ZLBR",
        "outputId": "316d1246-5ac4-4150-f85b-bc360ce81f2a"
      },
      "execution_count": 11,
      "outputs": [
        {
          "output_type": "display_data",
          "data": {
            "text/plain": [
              "<IPython.core.display.HTML object>"
            ],
            "text/html": [
              "<b><font color=Green>Count of songs by Taylor Swift in different genres</font></b><table border=\"1\" class=\"dataframe\">\n",
              "  <thead>\n",
              "    <tr style=\"text-align: right;\">\n",
              "      <th>artist</th>\n",
              "      <th>genre</th>\n",
              "      <th>num_songs</th>\n",
              "    </tr>\n",
              "  </thead>\n",
              "  <tbody>\n",
              "    <tr>\n",
              "      <td>Taylor Swift</td>\n",
              "      <td>Pop</td>\n",
              "      <td>2</td>\n",
              "    </tr>\n",
              "    <tr>\n",
              "      <td>Taylor Swift</td>\n",
              "      <td>Rock</td>\n",
              "      <td>1</td>\n",
              "    </tr>\n",
              "  </tbody>\n",
              "</table>"
            ]
          },
          "metadata": {}
        }
      ]
    },
    {
      "cell_type": "code",
      "source": [
        "#Find the number of songs by all artists in different genres\n",
        "\n",
        "qry_artist_count=\"\"\"\n",
        "SELECT artist, genre,count(*) as num_songs\n",
        "FROM Songs\n",
        "GROUP BY artist, genre;\n",
        "\"\"\"\n",
        "runSql('Count of songs by Taylor Swift in different genres', qry_artist_count)\n"
      ],
      "metadata": {
        "colab": {
          "base_uri": "https://localhost:8080/",
          "height": 224
        },
        "id": "2I0ryfrOaQQe",
        "outputId": "29f30671-c00a-43fc-d16e-f9178e4d5297"
      },
      "execution_count": 12,
      "outputs": [
        {
          "output_type": "display_data",
          "data": {
            "text/plain": [
              "<IPython.core.display.HTML object>"
            ],
            "text/html": [
              "<b><font color=Green>Count of songs by Taylor Swift in different genres</font></b><table border=\"1\" class=\"dataframe\">\n",
              "  <thead>\n",
              "    <tr style=\"text-align: right;\">\n",
              "      <th>artist</th>\n",
              "      <th>genre</th>\n",
              "      <th>num_songs</th>\n",
              "    </tr>\n",
              "  </thead>\n",
              "  <tbody>\n",
              "    <tr>\n",
              "      <td>Beatles</td>\n",
              "      <td>Classic</td>\n",
              "      <td>3</td>\n",
              "    </tr>\n",
              "    <tr>\n",
              "      <td>DJ</td>\n",
              "      <td>None</td>\n",
              "      <td>1</td>\n",
              "    </tr>\n",
              "    <tr>\n",
              "      <td>Ed Sheeran</td>\n",
              "      <td>Rock</td>\n",
              "      <td>3</td>\n",
              "    </tr>\n",
              "    <tr>\n",
              "      <td>Taylor Swift</td>\n",
              "      <td>Pop</td>\n",
              "      <td>2</td>\n",
              "    </tr>\n",
              "    <tr>\n",
              "      <td>Taylor Swift</td>\n",
              "      <td>Rock</td>\n",
              "      <td>1</td>\n",
              "    </tr>\n",
              "  </tbody>\n",
              "</table>"
            ]
          },
          "metadata": {}
        }
      ]
    },
    {
      "cell_type": "code",
      "source": [
        "#Create one single table for songs and listens. Redundancies are allowed\n",
        "\n",
        "qry_large_table = \"\"\"\n",
        "SELECT * FROM Songs\n",
        "LEFT JOIN Listens ON Songs.song_id=Listens.song_id\n",
        "LEFT JOIN Users ON Listens.user_id=Users.user_id;\n",
        "\"\"\"\n",
        "runSql('One Large Table',qry_large_table)"
      ],
      "metadata": {
        "colab": {
          "base_uri": "https://localhost:8080/",
          "height": 506
        },
        "id": "JYtU1XpWarvh",
        "outputId": "9bd5816c-34c6-4549-a516-76fb8d307cbe"
      },
      "execution_count": 13,
      "outputs": [
        {
          "output_type": "display_data",
          "data": {
            "text/plain": [
              "<IPython.core.display.HTML object>"
            ],
            "text/html": [
              "<b><font color=Green>One Large Table</font></b><table border=\"1\" class=\"dataframe\">\n",
              "  <thead>\n",
              "    <tr style=\"text-align: right;\">\n",
              "      <th>song_id</th>\n",
              "      <th>title</th>\n",
              "      <th>artist</th>\n",
              "      <th>genre</th>\n",
              "      <th>listen_id</th>\n",
              "      <th>user_id</th>\n",
              "      <th>song_id</th>\n",
              "      <th>rating</th>\n",
              "      <th>listen_time</th>\n",
              "      <th>user_id</th>\n",
              "      <th>name</th>\n",
              "      <th>email</th>\n",
              "    </tr>\n",
              "  </thead>\n",
              "  <tbody>\n",
              "    <tr>\n",
              "      <td>1</td>\n",
              "      <td>Evermore</td>\n",
              "      <td>Taylor Swift</td>\n",
              "      <td>Pop</td>\n",
              "      <td>1.0</td>\n",
              "      <td>1.0</td>\n",
              "      <td>1.0</td>\n",
              "      <td>4.5</td>\n",
              "      <td>2024-08-30 14:35:00</td>\n",
              "      <td>1.0</td>\n",
              "      <td>Mickey</td>\n",
              "      <td>mickey@example.com</td>\n",
              "    </tr>\n",
              "    <tr>\n",
              "      <td>1</td>\n",
              "      <td>Evermore</td>\n",
              "      <td>Taylor Swift</td>\n",
              "      <td>Pop</td>\n",
              "      <td>7.0</td>\n",
              "      <td>3.0</td>\n",
              "      <td>1.0</td>\n",
              "      <td>2.9</td>\n",
              "      <td>None</td>\n",
              "      <td>3.0</td>\n",
              "      <td>Daffy</td>\n",
              "      <td>daffy@example.com</td>\n",
              "    </tr>\n",
              "    <tr>\n",
              "      <td>2</td>\n",
              "      <td>Willow</td>\n",
              "      <td>Taylor Swift</td>\n",
              "      <td>Pop</td>\n",
              "      <td>2.0</td>\n",
              "      <td>1.0</td>\n",
              "      <td>2.0</td>\n",
              "      <td>4.2</td>\n",
              "      <td>None</td>\n",
              "      <td>1.0</td>\n",
              "      <td>Mickey</td>\n",
              "      <td>mickey@example.com</td>\n",
              "    </tr>\n",
              "    <tr>\n",
              "      <td>2</td>\n",
              "      <td>Willow</td>\n",
              "      <td>Taylor Swift</td>\n",
              "      <td>Pop</td>\n",
              "      <td>4.0</td>\n",
              "      <td>2.0</td>\n",
              "      <td>2.0</td>\n",
              "      <td>4.7</td>\n",
              "      <td>None</td>\n",
              "      <td>2.0</td>\n",
              "      <td>Minnie</td>\n",
              "      <td>minnie@example.com</td>\n",
              "    </tr>\n",
              "    <tr>\n",
              "      <td>2</td>\n",
              "      <td>Willow</td>\n",
              "      <td>Taylor Swift</td>\n",
              "      <td>Pop</td>\n",
              "      <td>8.0</td>\n",
              "      <td>3.0</td>\n",
              "      <td>2.0</td>\n",
              "      <td>4.9</td>\n",
              "      <td>2024-08-26 12:30:00</td>\n",
              "      <td>3.0</td>\n",
              "      <td>Daffy</td>\n",
              "      <td>daffy@example.com</td>\n",
              "    </tr>\n",
              "    <tr>\n",
              "      <td>3</td>\n",
              "      <td>Shape of You</td>\n",
              "      <td>Ed Sheeran</td>\n",
              "      <td>Rock</td>\n",
              "      <td>NaN</td>\n",
              "      <td>NaN</td>\n",
              "      <td>NaN</td>\n",
              "      <td>NaN</td>\n",
              "      <td>None</td>\n",
              "      <td>NaN</td>\n",
              "      <td>None</td>\n",
              "      <td>None</td>\n",
              "    </tr>\n",
              "    <tr>\n",
              "      <td>4</td>\n",
              "      <td>Photograph</td>\n",
              "      <td>Ed Sheeran</td>\n",
              "      <td>Rock</td>\n",
              "      <td>NaN</td>\n",
              "      <td>NaN</td>\n",
              "      <td>NaN</td>\n",
              "      <td>NaN</td>\n",
              "      <td>None</td>\n",
              "      <td>NaN</td>\n",
              "      <td>None</td>\n",
              "      <td>None</td>\n",
              "    </tr>\n",
              "    <tr>\n",
              "      <td>5</td>\n",
              "      <td>Shivers</td>\n",
              "      <td>Ed Sheeran</td>\n",
              "      <td>Rock</td>\n",
              "      <td>NaN</td>\n",
              "      <td>NaN</td>\n",
              "      <td>NaN</td>\n",
              "      <td>NaN</td>\n",
              "      <td>None</td>\n",
              "      <td>NaN</td>\n",
              "      <td>None</td>\n",
              "      <td>None</td>\n",
              "    </tr>\n",
              "    <tr>\n",
              "      <td>6</td>\n",
              "      <td>Yesterday</td>\n",
              "      <td>Beatles</td>\n",
              "      <td>Classic</td>\n",
              "      <td>3.0</td>\n",
              "      <td>1.0</td>\n",
              "      <td>6.0</td>\n",
              "      <td>3.9</td>\n",
              "      <td>2024-08-29 10:15:00</td>\n",
              "      <td>1.0</td>\n",
              "      <td>Mickey</td>\n",
              "      <td>mickey@example.com</td>\n",
              "    </tr>\n",
              "    <tr>\n",
              "      <td>6</td>\n",
              "      <td>Yesterday</td>\n",
              "      <td>Beatles</td>\n",
              "      <td>Classic</td>\n",
              "      <td>9.0</td>\n",
              "      <td>3.0</td>\n",
              "      <td>6.0</td>\n",
              "      <td>NaN</td>\n",
              "      <td>None</td>\n",
              "      <td>3.0</td>\n",
              "      <td>Daffy</td>\n",
              "      <td>daffy@example.com</td>\n",
              "    </tr>\n",
              "    <tr>\n",
              "      <td>7</td>\n",
              "      <td>Yellow Submarine</td>\n",
              "      <td>Beatles</td>\n",
              "      <td>Classic</td>\n",
              "      <td>5.0</td>\n",
              "      <td>2.0</td>\n",
              "      <td>7.0</td>\n",
              "      <td>4.6</td>\n",
              "      <td>2024-08-28 09:20:00</td>\n",
              "      <td>2.0</td>\n",
              "      <td>Minnie</td>\n",
              "      <td>minnie@example.com</td>\n",
              "    </tr>\n",
              "    <tr>\n",
              "      <td>8</td>\n",
              "      <td>Hey Jude</td>\n",
              "      <td>Beatles</td>\n",
              "      <td>Classic</td>\n",
              "      <td>6.0</td>\n",
              "      <td>2.0</td>\n",
              "      <td>8.0</td>\n",
              "      <td>3.9</td>\n",
              "      <td>2024-08-27 16:45:00</td>\n",
              "      <td>2.0</td>\n",
              "      <td>Minnie</td>\n",
              "      <td>minnie@example.com</td>\n",
              "    </tr>\n",
              "    <tr>\n",
              "      <td>9</td>\n",
              "      <td>Bad Blood</td>\n",
              "      <td>Taylor Swift</td>\n",
              "      <td>Rock</td>\n",
              "      <td>NaN</td>\n",
              "      <td>NaN</td>\n",
              "      <td>NaN</td>\n",
              "      <td>NaN</td>\n",
              "      <td>None</td>\n",
              "      <td>NaN</td>\n",
              "      <td>None</td>\n",
              "      <td>None</td>\n",
              "    </tr>\n",
              "    <tr>\n",
              "      <td>10</td>\n",
              "      <td>DJ Mix</td>\n",
              "      <td>DJ</td>\n",
              "      <td>None</td>\n",
              "      <td>NaN</td>\n",
              "      <td>NaN</td>\n",
              "      <td>NaN</td>\n",
              "      <td>NaN</td>\n",
              "      <td>None</td>\n",
              "      <td>NaN</td>\n",
              "      <td>None</td>\n",
              "      <td>None</td>\n",
              "    </tr>\n",
              "  </tbody>\n",
              "</table>"
            ]
          },
          "metadata": {}
        }
      ]
    },
    {
      "cell_type": "code",
      "source": [
        "#Find the Highly Rates Songs. Consider Rating above 4.6 as highly rated\n",
        "\n",
        "qry_rating_songs=\"\"\"\n",
        "SELECT Songs.song_id, Songs.title, Songs.artist, Listens.rating\n",
        "FROM Songs\n",
        "JOIN Listens ON Songs.song_id = Listens.song_id\n",
        "WHERE Listens.rating > 4.6\n",
        "\"\"\"\n",
        "runSql('Highly Rated Songs',qry_rating_songs)\n",
        "\n",
        "#Find tha average rating of every song\n",
        "\n",
        "qry_avg_songs=\"\"\"\n",
        "SELECT Songs.song_id, Songs.title, Songs.artist, AVG(Listens.rating)\n",
        "FROM Songs\n",
        "JOIN Listens ON Songs.song_id = Listens.song_id\n",
        "GROUP BY Songs.song_id, Songs.title, Songs.artist\n",
        "\"\"\"\n",
        "runSql('Highly Rated Songs',qry_avg_songs)\n",
        "\n"
      ],
      "metadata": {
        "colab": {
          "base_uri": "https://localhost:8080/",
          "height": 336
        },
        "id": "KJUfbAzxcR8v",
        "outputId": "377f603a-2309-49f8-8329-3ef23ddc81b7"
      },
      "execution_count": 14,
      "outputs": [
        {
          "output_type": "display_data",
          "data": {
            "text/plain": [
              "<IPython.core.display.HTML object>"
            ],
            "text/html": [
              "<b><font color=Green>Highly Rated Songs</font></b><table border=\"1\" class=\"dataframe\">\n",
              "  <thead>\n",
              "    <tr style=\"text-align: right;\">\n",
              "      <th>song_id</th>\n",
              "      <th>title</th>\n",
              "      <th>artist</th>\n",
              "      <th>rating</th>\n",
              "    </tr>\n",
              "  </thead>\n",
              "  <tbody>\n",
              "    <tr>\n",
              "      <td>2</td>\n",
              "      <td>Willow</td>\n",
              "      <td>Taylor Swift</td>\n",
              "      <td>4.7</td>\n",
              "    </tr>\n",
              "    <tr>\n",
              "      <td>2</td>\n",
              "      <td>Willow</td>\n",
              "      <td>Taylor Swift</td>\n",
              "      <td>4.9</td>\n",
              "    </tr>\n",
              "  </tbody>\n",
              "</table>"
            ]
          },
          "metadata": {}
        },
        {
          "output_type": "display_data",
          "data": {
            "text/plain": [
              "<IPython.core.display.HTML object>"
            ],
            "text/html": [
              "<b><font color=Green>Highly Rated Songs</font></b><table border=\"1\" class=\"dataframe\">\n",
              "  <thead>\n",
              "    <tr style=\"text-align: right;\">\n",
              "      <th>song_id</th>\n",
              "      <th>title</th>\n",
              "      <th>artist</th>\n",
              "      <th>AVG(Listens.rating)</th>\n",
              "    </tr>\n",
              "  </thead>\n",
              "  <tbody>\n",
              "    <tr>\n",
              "      <td>1</td>\n",
              "      <td>Evermore</td>\n",
              "      <td>Taylor Swift</td>\n",
              "      <td>3.7</td>\n",
              "    </tr>\n",
              "    <tr>\n",
              "      <td>2</td>\n",
              "      <td>Willow</td>\n",
              "      <td>Taylor Swift</td>\n",
              "      <td>4.6</td>\n",
              "    </tr>\n",
              "    <tr>\n",
              "      <td>6</td>\n",
              "      <td>Yesterday</td>\n",
              "      <td>Beatles</td>\n",
              "      <td>3.9</td>\n",
              "    </tr>\n",
              "    <tr>\n",
              "      <td>7</td>\n",
              "      <td>Yellow Submarine</td>\n",
              "      <td>Beatles</td>\n",
              "      <td>4.6</td>\n",
              "    </tr>\n",
              "    <tr>\n",
              "      <td>8</td>\n",
              "      <td>Hey Jude</td>\n",
              "      <td>Beatles</td>\n",
              "      <td>3.9</td>\n",
              "    </tr>\n",
              "  </tbody>\n",
              "</table>"
            ]
          },
          "metadata": {}
        }
      ]
    },
    {
      "cell_type": "code",
      "source": [
        "#Find the popular songs by counting the listens\n",
        "\n",
        "qry_pop_songs = \"\"\"\n",
        "SELECT Songs.song_id, Songs.title, Songs.artist, count(Listens.song_id)\n",
        "FROM Songs\n",
        "JOIN Listens\n",
        "ON Songs.song_id=Listens.song_id\n",
        "GROUP BY Songs.title, Songs.artist\n",
        "ORDER BY COUNT(Listens.song_id) DESC;\n",
        "\"\"\"\n",
        "\n",
        "runSql('Popular Songs', qry_pop_songs)"
      ],
      "metadata": {
        "colab": {
          "base_uri": "https://localhost:8080/",
          "height": 224
        },
        "id": "kZ7do5Vid58S",
        "outputId": "94b9be94-c85b-4f33-b563-7d0574b2019e"
      },
      "execution_count": 15,
      "outputs": [
        {
          "output_type": "display_data",
          "data": {
            "text/plain": [
              "<IPython.core.display.HTML object>"
            ],
            "text/html": [
              "<b><font color=Green>Popular Songs</font></b><table border=\"1\" class=\"dataframe\">\n",
              "  <thead>\n",
              "    <tr style=\"text-align: right;\">\n",
              "      <th>song_id</th>\n",
              "      <th>title</th>\n",
              "      <th>artist</th>\n",
              "      <th>count(Listens.song_id)</th>\n",
              "    </tr>\n",
              "  </thead>\n",
              "  <tbody>\n",
              "    <tr>\n",
              "      <td>2</td>\n",
              "      <td>Willow</td>\n",
              "      <td>Taylor Swift</td>\n",
              "      <td>3</td>\n",
              "    </tr>\n",
              "    <tr>\n",
              "      <td>1</td>\n",
              "      <td>Evermore</td>\n",
              "      <td>Taylor Swift</td>\n",
              "      <td>2</td>\n",
              "    </tr>\n",
              "    <tr>\n",
              "      <td>6</td>\n",
              "      <td>Yesterday</td>\n",
              "      <td>Beatles</td>\n",
              "      <td>2</td>\n",
              "    </tr>\n",
              "    <tr>\n",
              "      <td>8</td>\n",
              "      <td>Hey Jude</td>\n",
              "      <td>Beatles</td>\n",
              "      <td>1</td>\n",
              "    </tr>\n",
              "    <tr>\n",
              "      <td>7</td>\n",
              "      <td>Yellow Submarine</td>\n",
              "      <td>Beatles</td>\n",
              "      <td>1</td>\n",
              "    </tr>\n",
              "  </tbody>\n",
              "</table>"
            ]
          },
          "metadata": {}
        }
      ]
    },
    {
      "cell_type": "code",
      "source": [
        "#Find songs by Ed Sheeran and Taylor Swift\n",
        "\n",
        "qry_edtaylor=\"\"\"\n",
        "SELECT title, artist\n",
        "FROM Songs\n",
        "WHERE artist IN ('Ed Sheeran', 'Taylor Swift');\n",
        "\"\"\"\n",
        "runSql('Songs by Ed Sheeran and Taylor Swift', qry_edtaylor)\n",
        "\n",
        "#Find songs from both pop and rock genres\n",
        "\n",
        "qry_popandrock = \"\"\"\n",
        "SELECT title, artist\n",
        "FROM Songs\n",
        "WHERE genre='Pop'\n",
        "UNION\n",
        "SELECT title, artist\n",
        "FROM Songs\n",
        "WHERE genre='Rock'\n",
        "\"\"\"\n",
        "runSql('Songs on both Pop and Rock', qry_popandrock)\n"
      ],
      "metadata": {
        "colab": {
          "base_uri": "https://localhost:8080/",
          "height": 493
        },
        "id": "XcnhWdXBfbvA",
        "outputId": "e0920678-a7be-4b59-8eed-0f0b7099de5c"
      },
      "execution_count": 16,
      "outputs": [
        {
          "output_type": "display_data",
          "data": {
            "text/plain": [
              "<IPython.core.display.HTML object>"
            ],
            "text/html": [
              "<b><font color=Green>Songs by Ed Sheeran and Taylor Swift</font></b><table border=\"1\" class=\"dataframe\">\n",
              "  <thead>\n",
              "    <tr style=\"text-align: right;\">\n",
              "      <th>title</th>\n",
              "      <th>artist</th>\n",
              "    </tr>\n",
              "  </thead>\n",
              "  <tbody>\n",
              "    <tr>\n",
              "      <td>Evermore</td>\n",
              "      <td>Taylor Swift</td>\n",
              "    </tr>\n",
              "    <tr>\n",
              "      <td>Willow</td>\n",
              "      <td>Taylor Swift</td>\n",
              "    </tr>\n",
              "    <tr>\n",
              "      <td>Shape of You</td>\n",
              "      <td>Ed Sheeran</td>\n",
              "    </tr>\n",
              "    <tr>\n",
              "      <td>Photograph</td>\n",
              "      <td>Ed Sheeran</td>\n",
              "    </tr>\n",
              "    <tr>\n",
              "      <td>Shivers</td>\n",
              "      <td>Ed Sheeran</td>\n",
              "    </tr>\n",
              "    <tr>\n",
              "      <td>Bad Blood</td>\n",
              "      <td>Taylor Swift</td>\n",
              "    </tr>\n",
              "  </tbody>\n",
              "</table>"
            ]
          },
          "metadata": {}
        },
        {
          "output_type": "display_data",
          "data": {
            "text/plain": [
              "<IPython.core.display.HTML object>"
            ],
            "text/html": [
              "<b><font color=Green>Songs on both Pop and Rock</font></b><table border=\"1\" class=\"dataframe\">\n",
              "  <thead>\n",
              "    <tr style=\"text-align: right;\">\n",
              "      <th>title</th>\n",
              "      <th>artist</th>\n",
              "    </tr>\n",
              "  </thead>\n",
              "  <tbody>\n",
              "    <tr>\n",
              "      <td>Bad Blood</td>\n",
              "      <td>Taylor Swift</td>\n",
              "    </tr>\n",
              "    <tr>\n",
              "      <td>Evermore</td>\n",
              "      <td>Taylor Swift</td>\n",
              "    </tr>\n",
              "    <tr>\n",
              "      <td>Photograph</td>\n",
              "      <td>Ed Sheeran</td>\n",
              "    </tr>\n",
              "    <tr>\n",
              "      <td>Shape of You</td>\n",
              "      <td>Ed Sheeran</td>\n",
              "    </tr>\n",
              "    <tr>\n",
              "      <td>Shivers</td>\n",
              "      <td>Ed Sheeran</td>\n",
              "    </tr>\n",
              "    <tr>\n",
              "      <td>Willow</td>\n",
              "      <td>Taylor Swift</td>\n",
              "    </tr>\n",
              "  </tbody>\n",
              "</table>"
            ]
          },
          "metadata": {}
        }
      ]
    },
    {
      "cell_type": "code",
      "source": [
        "#Find songs listened to by user_id 1\n",
        "\n",
        "qry_listen_usr=\"\"\"\n",
        "SELECT title, artist\n",
        "FROM Songs\n",
        "WHERE song_id IN (SELECT song_id FROM Listens WHERE Listens.listen_time IS NULL);\n",
        "\"\"\"\n",
        "runSql('Songs listened by user_id=1',qry_listen_usr)"
      ],
      "metadata": {
        "colab": {
          "base_uri": "https://localhost:8080/",
          "height": 161
        },
        "id": "I9tVVcvAgsvQ",
        "outputId": "891ec743-6558-404e-e541-1de7088cae84"
      },
      "execution_count": 17,
      "outputs": [
        {
          "output_type": "display_data",
          "data": {
            "text/plain": [
              "<IPython.core.display.HTML object>"
            ],
            "text/html": [
              "<b><font color=Green>Songs listened by user_id=1</font></b><table border=\"1\" class=\"dataframe\">\n",
              "  <thead>\n",
              "    <tr style=\"text-align: right;\">\n",
              "      <th>title</th>\n",
              "      <th>artist</th>\n",
              "    </tr>\n",
              "  </thead>\n",
              "  <tbody>\n",
              "    <tr>\n",
              "      <td>Evermore</td>\n",
              "      <td>Taylor Swift</td>\n",
              "    </tr>\n",
              "    <tr>\n",
              "      <td>Willow</td>\n",
              "      <td>Taylor Swift</td>\n",
              "    </tr>\n",
              "    <tr>\n",
              "      <td>Yesterday</td>\n",
              "      <td>Beatles</td>\n",
              "    </tr>\n",
              "  </tbody>\n",
              "</table>"
            ]
          },
          "metadata": {}
        }
      ]
    },
    {
      "cell_type": "code",
      "source": [
        "#Computing the recommendations\n",
        "#Find the song pairs which are shared across > 1 user\n",
        "\n",
        "qry_sharing=\"\"\"\n",
        "WITH song_similarity AS (\n",
        "SELECT u1.song_id as song1, u2.song_id as song2, COUNT(*) AS common_users\n",
        "FROM LISTENS u1\n",
        "JOIN LISTENS u2\n",
        "ON u1.user_id=u2.user_id\n",
        "AND u1.song_id != u2.song_id\n",
        "GROUP BY u1.song_id, u2.song_id\n",
        "HAVING COUNT(*)>1\n",
        "),\n",
        "\n",
        "recs AS (\n",
        "  SELECT user_id, song2 as song_id\n",
        "  FROM song_similarity\n",
        "  JOIN Listens as L\n",
        "  ON L.song_id = song_similarity.song1\n",
        "  WHERE song_similarity.song2 NOT IN\n",
        "  (SELECT song_id FROM Listens as temp where temp.user_id=L.user_id)\n",
        ")\n",
        "select * from recs;\n",
        "\"\"\"\n",
        "runSql('Songs shared', qry_sharing)"
      ],
      "metadata": {
        "colab": {
          "base_uri": "https://localhost:8080/",
          "height": 129
        },
        "id": "vudHinsaiRoD",
        "outputId": "099281e3-efb4-42fc-f163-189179fbe9fe"
      },
      "execution_count": 18,
      "outputs": [
        {
          "output_type": "display_data",
          "data": {
            "text/plain": [
              "<IPython.core.display.HTML object>"
            ],
            "text/html": [
              "<b><font color=Green>Songs shared</font></b><table border=\"1\" class=\"dataframe\">\n",
              "  <thead>\n",
              "    <tr style=\"text-align: right;\">\n",
              "      <th>user_id</th>\n",
              "      <th>song_id</th>\n",
              "    </tr>\n",
              "  </thead>\n",
              "  <tbody>\n",
              "    <tr>\n",
              "      <td>2</td>\n",
              "      <td>1</td>\n",
              "    </tr>\n",
              "    <tr>\n",
              "      <td>2</td>\n",
              "      <td>6</td>\n",
              "    </tr>\n",
              "  </tbody>\n",
              "</table>"
            ]
          },
          "metadata": {}
        }
      ]
    },
    {
      "cell_type": "code",
      "source": [
        "#ASSIGNMENT-2. To be submitted as a PDF with queries and screenshots.\n",
        "\n",
        "#1 Insert the above into the recommendations table\n",
        "#2 Generate the recommendaions for Minnie\n",
        "\n",
        "#3 Re-do the generation of recommendations now on the basis of listen time\n",
        "#4 Generate new recommendations\n",
        "#5 What are the differences with the static method on #2 above"
      ],
      "metadata": {
        "id": "kfNk7E21S5c2"
      },
      "execution_count": 19,
      "outputs": []
    },
    {
      "cell_type": "markdown",
      "source": [
        "*Q1* #1 Insert the above into the recommendations table"
      ],
      "metadata": {
        "id": "cqj9PAMOuy7S"
      }
    },
    {
      "cell_type": "code",
      "source": [
        "import sqlite3\n",
        "conn = sqlite3.connect(dbname)\n",
        "cursor = conn.cursor()\n",
        "\n",
        "recommendation_query_temp = \"\"\"\n",
        "INSERT INTO Recommendations (recommendation_id, recommendation_time, user_id,\n",
        "song_id)\n",
        "WITH song_similarity AS (\n",
        "SELECT u1.song_id AS song1, u2.song_id AS song2, COUNT(*) AS common_users\n",
        "FROM Listens u1\n",
        "JOIN Listens u2\n",
        "ON u1.user_id = u2.user_id AND u1.song_id != u2.song_id\n",
        "GROUP BY u1.song_id, u2.song_id\n",
        "HAVING COUNT(*) > 1\n",
        ")\n",
        "SELECT\n",
        "ROW_NUMBER() OVER (ORDER BY L.user_id, song2) AS recommendation_id,\n",
        "datetime('now') AS recommendation_time,\n",
        "L.user_id,\n",
        "song2 AS song_id\n",
        "FROM song_similarity\n",
        "JOIN Listens AS L ON L.song_id = song_similarity.song1\n",
        "WHERE song2 NOT IN (\n",
        "SELECT song_id FROM Listens WHERE user_id = L.user_id\n",
        ");\n",
        "\"\"\"\n",
        "cursor.execute(recommendation_query_temp)\n",
        "conn.commit()\n",
        "\n",
        "runSql('TEST', 'SELECT * FROM Recommendations;')"
      ],
      "metadata": {
        "colab": {
          "base_uri": "https://localhost:8080/",
          "height": 318
        },
        "id": "8Hg-V5YlxLqg",
        "outputId": "6b6fe4b8-41f5-4898-95af-daf4c8a12415"
      },
      "execution_count": 23,
      "outputs": [
        {
          "output_type": "display_data",
          "data": {
            "text/plain": [
              "<IPython.core.display.HTML object>"
            ],
            "text/html": [
              "<b><font color=Green>TEST</font></b><table border=\"1\" class=\"dataframe\">\n",
              "  <thead>\n",
              "    <tr style=\"text-align: right;\">\n",
              "      <th>recommendation_id</th>\n",
              "      <th>recommendation_time</th>\n",
              "      <th>user_id</th>\n",
              "      <th>song_id</th>\n",
              "    </tr>\n",
              "  </thead>\n",
              "  <tbody>\n",
              "    <tr>\n",
              "      <td>1</td>\n",
              "      <td>2024-12-15 14:42:10</td>\n",
              "      <td>2</td>\n",
              "      <td>1</td>\n",
              "    </tr>\n",
              "    <tr>\n",
              "      <td>2</td>\n",
              "      <td>2024-12-15 14:42:10</td>\n",
              "      <td>2</td>\n",
              "      <td>6</td>\n",
              "    </tr>\n",
              "    <tr>\n",
              "      <td>1</td>\n",
              "      <td>2024-12-15 14:42:25</td>\n",
              "      <td>2</td>\n",
              "      <td>1</td>\n",
              "    </tr>\n",
              "    <tr>\n",
              "      <td>2</td>\n",
              "      <td>2024-12-15 14:42:25</td>\n",
              "      <td>2</td>\n",
              "      <td>6</td>\n",
              "    </tr>\n",
              "    <tr>\n",
              "      <td>1</td>\n",
              "      <td>2024-12-15 14:42:47</td>\n",
              "      <td>2</td>\n",
              "      <td>1</td>\n",
              "    </tr>\n",
              "    <tr>\n",
              "      <td>2</td>\n",
              "      <td>2024-12-15 14:42:47</td>\n",
              "      <td>2</td>\n",
              "      <td>6</td>\n",
              "    </tr>\n",
              "    <tr>\n",
              "      <td>1</td>\n",
              "      <td>2024-12-15 14:43:22</td>\n",
              "      <td>2</td>\n",
              "      <td>1</td>\n",
              "    </tr>\n",
              "    <tr>\n",
              "      <td>2</td>\n",
              "      <td>2024-12-15 14:43:22</td>\n",
              "      <td>2</td>\n",
              "      <td>6</td>\n",
              "    </tr>\n",
              "  </tbody>\n",
              "</table>"
            ]
          },
          "metadata": {}
        }
      ]
    },
    {
      "cell_type": "markdown",
      "source": [
        "#2 Generate the recommendaions for Minnie"
      ],
      "metadata": {
        "id": "fwlL9rT6xs0p"
      }
    },
    {
      "cell_type": "code",
      "source": [
        "minnie_recommendations_query = \"\"\"\n",
        "SELECT\n",
        "s.title,\n",
        "s.artist,\n",
        "s.genre,\n",
        "r.recommendation_time\n",
        "FROM Recommendations r\n",
        "JOIN Songs s ON r.song_id = s.song_id\n",
        "WHERE r.user_id = 2\n",
        "ORDER BY r.recommendation_time DESC;\n",
        "\"\"\"\n",
        "runSql('Minnie Recommendations', minnie_recommendations_query)"
      ],
      "metadata": {
        "colab": {
          "base_uri": "https://localhost:8080/",
          "height": 318
        },
        "id": "BtYRDvLFxskQ",
        "outputId": "8d7a8b7e-d247-4aeb-a103-8d7405383768"
      },
      "execution_count": 25,
      "outputs": [
        {
          "output_type": "display_data",
          "data": {
            "text/plain": [
              "<IPython.core.display.HTML object>"
            ],
            "text/html": [
              "<b><font color=Green>Minnie Recommendations</font></b><table border=\"1\" class=\"dataframe\">\n",
              "  <thead>\n",
              "    <tr style=\"text-align: right;\">\n",
              "      <th>title</th>\n",
              "      <th>artist</th>\n",
              "      <th>genre</th>\n",
              "      <th>recommendation_time</th>\n",
              "    </tr>\n",
              "  </thead>\n",
              "  <tbody>\n",
              "    <tr>\n",
              "      <td>Evermore</td>\n",
              "      <td>Taylor Swift</td>\n",
              "      <td>Pop</td>\n",
              "      <td>2024-12-15 14:43:22</td>\n",
              "    </tr>\n",
              "    <tr>\n",
              "      <td>Yesterday</td>\n",
              "      <td>Beatles</td>\n",
              "      <td>Classic</td>\n",
              "      <td>2024-12-15 14:43:22</td>\n",
              "    </tr>\n",
              "    <tr>\n",
              "      <td>Evermore</td>\n",
              "      <td>Taylor Swift</td>\n",
              "      <td>Pop</td>\n",
              "      <td>2024-12-15 14:42:47</td>\n",
              "    </tr>\n",
              "    <tr>\n",
              "      <td>Yesterday</td>\n",
              "      <td>Beatles</td>\n",
              "      <td>Classic</td>\n",
              "      <td>2024-12-15 14:42:47</td>\n",
              "    </tr>\n",
              "    <tr>\n",
              "      <td>Evermore</td>\n",
              "      <td>Taylor Swift</td>\n",
              "      <td>Pop</td>\n",
              "      <td>2024-12-15 14:42:25</td>\n",
              "    </tr>\n",
              "    <tr>\n",
              "      <td>Yesterday</td>\n",
              "      <td>Beatles</td>\n",
              "      <td>Classic</td>\n",
              "      <td>2024-12-15 14:42:25</td>\n",
              "    </tr>\n",
              "    <tr>\n",
              "      <td>Evermore</td>\n",
              "      <td>Taylor Swift</td>\n",
              "      <td>Pop</td>\n",
              "      <td>2024-12-15 14:42:10</td>\n",
              "    </tr>\n",
              "    <tr>\n",
              "      <td>Yesterday</td>\n",
              "      <td>Beatles</td>\n",
              "      <td>Classic</td>\n",
              "      <td>2024-12-15 14:42:10</td>\n",
              "    </tr>\n",
              "  </tbody>\n",
              "</table>"
            ]
          },
          "metadata": {}
        }
      ]
    },
    {
      "cell_type": "markdown",
      "source": [
        "#3 Re-do the generation of recommendations now on the basis of listen time"
      ],
      "metadata": {
        "id": "xG95XaOoxtsZ"
      }
    },
    {
      "cell_type": "code",
      "source": [
        "\n",
        "time_query = \"\"\"\n",
        "SELECT\n",
        "l1.user_id,\n",
        "s.title,\n",
        "s.artist,\n",
        "l1.rating,\n",
        "l2.rating AS other_rating,\n",
        "l1.listen_time,\n",
        "l2.listen_time AS other_listen_time\n",
        "FROM Listens l1\n",
        "JOIN Listens l2 ON l1.user_id = l2.user_id AND l1.song_id != l2.song_id\n",
        "JOIN Songs s ON l2.song_id = s.song_id\n",
        "WHERE l1.listen_time IS NOT NULL\n",
        "AND l2.listen_time IS NOT NULL\n",
        "ORDER BY l1.user_id, l1.listen_time DESC;\n",
        "\"\"\"\n",
        "\n",
        "runSql('Time-based Analysis Results', time_query)"
      ],
      "metadata": {
        "colab": {
          "base_uri": "https://localhost:8080/",
          "height": 192
        },
        "id": "nDZdWIPKxZTj",
        "outputId": "2cce3ff0-bede-4aaf-9e08-d7c50ec49065"
      },
      "execution_count": 27,
      "outputs": [
        {
          "output_type": "display_data",
          "data": {
            "text/plain": [
              "<IPython.core.display.HTML object>"
            ],
            "text/html": [
              "<b><font color=Green>Time-based Analysis Results</font></b><table border=\"1\" class=\"dataframe\">\n",
              "  <thead>\n",
              "    <tr style=\"text-align: right;\">\n",
              "      <th>user_id</th>\n",
              "      <th>title</th>\n",
              "      <th>artist</th>\n",
              "      <th>rating</th>\n",
              "      <th>other_rating</th>\n",
              "      <th>listen_time</th>\n",
              "      <th>other_listen_time</th>\n",
              "    </tr>\n",
              "  </thead>\n",
              "  <tbody>\n",
              "    <tr>\n",
              "      <td>1</td>\n",
              "      <td>Yesterday</td>\n",
              "      <td>Beatles</td>\n",
              "      <td>4.5</td>\n",
              "      <td>3.9</td>\n",
              "      <td>2024-08-30 14:35:00</td>\n",
              "      <td>2024-08-29 10:15:00</td>\n",
              "    </tr>\n",
              "    <tr>\n",
              "      <td>1</td>\n",
              "      <td>Evermore</td>\n",
              "      <td>Taylor Swift</td>\n",
              "      <td>3.9</td>\n",
              "      <td>4.5</td>\n",
              "      <td>2024-08-29 10:15:00</td>\n",
              "      <td>2024-08-30 14:35:00</td>\n",
              "    </tr>\n",
              "    <tr>\n",
              "      <td>2</td>\n",
              "      <td>Hey Jude</td>\n",
              "      <td>Beatles</td>\n",
              "      <td>4.6</td>\n",
              "      <td>3.9</td>\n",
              "      <td>2024-08-28 09:20:00</td>\n",
              "      <td>2024-08-27 16:45:00</td>\n",
              "    </tr>\n",
              "    <tr>\n",
              "      <td>2</td>\n",
              "      <td>Yellow Submarine</td>\n",
              "      <td>Beatles</td>\n",
              "      <td>3.9</td>\n",
              "      <td>4.6</td>\n",
              "      <td>2024-08-27 16:45:00</td>\n",
              "      <td>2024-08-28 09:20:00</td>\n",
              "    </tr>\n",
              "  </tbody>\n",
              "</table>"
            ]
          },
          "metadata": {}
        }
      ]
    },
    {
      "cell_type": "markdown",
      "source": [
        "#4 Generate new recommendations"
      ],
      "metadata": {
        "id": "G8EhedHC1hxY"
      }
    },
    {
      "cell_type": "code",
      "source": [
        "\n",
        "cursor.execute(\"DELETE FROM Recommendations;\")\n",
        "conn.commit()\n",
        "# ------ new recommendations based on user preferences ---\n",
        "insert_new_recom_query = \"\"\"\n",
        "WITH user_preferences AS (\n",
        "SELECT\n",
        "l1.user_id,\n",
        "l1.song_id,\n",
        "s1.genre,\n",
        "l1.rating,\n",
        "l1.listen_time\n",
        "FROM Listens l1\n",
        "JOIN Songs s1 ON l1.song_id = s1.song_id\n",
        "WHERE l1.listen_time IS NOT NULL\n",
        "),\n",
        "potential_recommendations AS (\n",
        "SELECT\n",
        "up.user_id,\n",
        "s2.song_id AS recommended_song_id,\n",
        "s2.title,\n",
        "s2.artist,\n",
        "s2.genre,\n",
        "up.rating AS user_rating,\n",
        "ROW_NUMBER() OVER (PARTITION BY up.user_id ORDER BY up.listen_time DESC,\n",
        "up.rating DESC) AS rank\n",
        "FROM user_preferences up\n",
        "JOIN Songs s2 ON up.genre = s2.genre\n",
        "WHERE s2.song_id NOT IN (\n",
        "SELECT song_id FROM Listens WHERE user_id = up.user_id\n",
        ")\n",
        ")\n",
        "INSERT INTO Recommendations (recommendation_id, recommendation_time, user_id,\n",
        "song_id)\n",
        "SELECT\n",
        "ROW_NUMBER() OVER (ORDER BY user_id, rank),\n",
        "datetime('now'),\n",
        "user_id,\n",
        "recommended_song_id\n",
        "FROM potential_recommendations\n",
        "WHERE rank <= 3;\n",
        "\"\"\"\n",
        "\n",
        "\n",
        "cursor.execute(insert_new_recom_query)\n",
        "conn.commit()\n",
        "\n",
        "\n",
        "\n",
        "verify_query = \"\"\"\n",
        "SELECT\n",
        "r.user_id,\n",
        "u.name AS user_name,\n",
        "s.title,\n",
        "s.artist,\n",
        "s.genre,\n",
        "r.recommendation_time\n",
        "FROM Recommendations r\n",
        "JOIN Songs s ON r.song_id = s.song_id\n",
        "JOIN Users u ON r.user_id = u.user_id\n",
        "ORDER BY r.user_id, r.recommendation_time;\n",
        "\"\"\"\n",
        "runSql('New Time-Based Recommendations Result', verify_query)"
      ],
      "metadata": {
        "colab": {
          "base_uri": "https://localhost:8080/",
          "height": 192
        },
        "id": "HRuU35bK1V09",
        "outputId": "6dcba27b-b395-4856-bd50-2448637d1ee8"
      },
      "execution_count": 35,
      "outputs": [
        {
          "output_type": "display_data",
          "data": {
            "text/plain": [
              "<IPython.core.display.HTML object>"
            ],
            "text/html": [
              "<b><font color=Green>New Time-Based Recommendations Result</font></b><table border=\"1\" class=\"dataframe\">\n",
              "  <thead>\n",
              "    <tr style=\"text-align: right;\">\n",
              "      <th>user_id</th>\n",
              "      <th>user_name</th>\n",
              "      <th>title</th>\n",
              "      <th>artist</th>\n",
              "      <th>genre</th>\n",
              "      <th>recommendation_time</th>\n",
              "    </tr>\n",
              "  </thead>\n",
              "  <tbody>\n",
              "    <tr>\n",
              "      <td>1</td>\n",
              "      <td>Mickey</td>\n",
              "      <td>Hey Jude</td>\n",
              "      <td>Beatles</td>\n",
              "      <td>Classic</td>\n",
              "      <td>2024-12-15 15:05:29</td>\n",
              "    </tr>\n",
              "    <tr>\n",
              "      <td>1</td>\n",
              "      <td>Mickey</td>\n",
              "      <td>Yellow Submarine</td>\n",
              "      <td>Beatles</td>\n",
              "      <td>Classic</td>\n",
              "      <td>2024-12-15 15:05:29</td>\n",
              "    </tr>\n",
              "    <tr>\n",
              "      <td>2</td>\n",
              "      <td>Minnie</td>\n",
              "      <td>Yesterday</td>\n",
              "      <td>Beatles</td>\n",
              "      <td>Classic</td>\n",
              "      <td>2024-12-15 15:05:29</td>\n",
              "    </tr>\n",
              "    <tr>\n",
              "      <td>2</td>\n",
              "      <td>Minnie</td>\n",
              "      <td>Yesterday</td>\n",
              "      <td>Beatles</td>\n",
              "      <td>Classic</td>\n",
              "      <td>2024-12-15 15:05:29</td>\n",
              "    </tr>\n",
              "  </tbody>\n",
              "</table>"
            ]
          },
          "metadata": {}
        }
      ]
    },
    {
      "cell_type": "markdown",
      "source": [
        "#5 What are the differences with the static method on #2 above"
      ],
      "metadata": {
        "id": "f6LC6xBw2xBC"
      }
    },
    {
      "cell_type": "code",
      "source": [
        "static_analysis_query_test = \"\"\"\n",
        "SELECT\n",
        "l.user_id,\n",
        "u.name,\n",
        "s.title AS listened_to,\n",
        "s.artist,\n",
        "l.rating,\n",
        "l.listen_time\n",
        "FROM Listens l\n",
        "JOIN Songs s ON l.song_id = s.song_id\n",
        "JOIN Users u ON l.user_id = u.user_id\n",
        "ORDER BY l.user_id, l.rating DESC;\n",
        "\"\"\"\n",
        "\n",
        "\n",
        "runSql('Static Analysis Listening Patterns', static_analysis_query_test)\n",
        "\n",
        "time_compr_query = \"\"\"\n",
        "SELECT\n",
        "r.user_id,\n",
        "u.name,\n",
        "s.title AS recommended_song,\n",
        "s.artist,\n",
        "s.genre,\n",
        "r.recommendation_time\n",
        "FROM Recommendations r\n",
        "JOIN Songs s ON r.song_id = s.song_id\n",
        "JOIN Users u ON r.user_id = u.user_id\n",
        "ORDER BY r.user_id, r.recommendation_time DESC;\n",
        "\"\"\"\n",
        "\n",
        "runSql('Time-Based Recommendations Resulkts : ', time_compr_query)"
      ],
      "metadata": {
        "colab": {
          "base_uri": "https://localhost:8080/",
          "height": 524
        },
        "id": "Qwuci5bZ2wjn",
        "outputId": "fb9a2901-109d-4441-c940-21dbf7ea78f9"
      },
      "execution_count": 37,
      "outputs": [
        {
          "output_type": "display_data",
          "data": {
            "text/plain": [
              "<IPython.core.display.HTML object>"
            ],
            "text/html": [
              "<b><font color=Green>Static Analysis Listening Patterns</font></b><table border=\"1\" class=\"dataframe\">\n",
              "  <thead>\n",
              "    <tr style=\"text-align: right;\">\n",
              "      <th>user_id</th>\n",
              "      <th>name</th>\n",
              "      <th>listened_to</th>\n",
              "      <th>artist</th>\n",
              "      <th>rating</th>\n",
              "      <th>listen_time</th>\n",
              "    </tr>\n",
              "  </thead>\n",
              "  <tbody>\n",
              "    <tr>\n",
              "      <td>1</td>\n",
              "      <td>Mickey</td>\n",
              "      <td>Evermore</td>\n",
              "      <td>Taylor Swift</td>\n",
              "      <td>4.5</td>\n",
              "      <td>2024-08-30 14:35:00</td>\n",
              "    </tr>\n",
              "    <tr>\n",
              "      <td>1</td>\n",
              "      <td>Mickey</td>\n",
              "      <td>Willow</td>\n",
              "      <td>Taylor Swift</td>\n",
              "      <td>4.2</td>\n",
              "      <td>None</td>\n",
              "    </tr>\n",
              "    <tr>\n",
              "      <td>1</td>\n",
              "      <td>Mickey</td>\n",
              "      <td>Yesterday</td>\n",
              "      <td>Beatles</td>\n",
              "      <td>3.9</td>\n",
              "      <td>2024-08-29 10:15:00</td>\n",
              "    </tr>\n",
              "    <tr>\n",
              "      <td>2</td>\n",
              "      <td>Minnie</td>\n",
              "      <td>Willow</td>\n",
              "      <td>Taylor Swift</td>\n",
              "      <td>4.7</td>\n",
              "      <td>None</td>\n",
              "    </tr>\n",
              "    <tr>\n",
              "      <td>2</td>\n",
              "      <td>Minnie</td>\n",
              "      <td>Yellow Submarine</td>\n",
              "      <td>Beatles</td>\n",
              "      <td>4.6</td>\n",
              "      <td>2024-08-28 09:20:00</td>\n",
              "    </tr>\n",
              "    <tr>\n",
              "      <td>2</td>\n",
              "      <td>Minnie</td>\n",
              "      <td>Hey Jude</td>\n",
              "      <td>Beatles</td>\n",
              "      <td>3.9</td>\n",
              "      <td>2024-08-27 16:45:00</td>\n",
              "    </tr>\n",
              "    <tr>\n",
              "      <td>3</td>\n",
              "      <td>Daffy</td>\n",
              "      <td>Willow</td>\n",
              "      <td>Taylor Swift</td>\n",
              "      <td>4.9</td>\n",
              "      <td>2024-08-26 12:30:00</td>\n",
              "    </tr>\n",
              "    <tr>\n",
              "      <td>3</td>\n",
              "      <td>Daffy</td>\n",
              "      <td>Evermore</td>\n",
              "      <td>Taylor Swift</td>\n",
              "      <td>2.9</td>\n",
              "      <td>None</td>\n",
              "    </tr>\n",
              "    <tr>\n",
              "      <td>3</td>\n",
              "      <td>Daffy</td>\n",
              "      <td>Yesterday</td>\n",
              "      <td>Beatles</td>\n",
              "      <td>NaN</td>\n",
              "      <td>None</td>\n",
              "    </tr>\n",
              "  </tbody>\n",
              "</table>"
            ]
          },
          "metadata": {}
        },
        {
          "output_type": "display_data",
          "data": {
            "text/plain": [
              "<IPython.core.display.HTML object>"
            ],
            "text/html": [
              "<b><font color=Green>Time-Based Recommendations Resulkts : </font></b><table border=\"1\" class=\"dataframe\">\n",
              "  <thead>\n",
              "    <tr style=\"text-align: right;\">\n",
              "      <th>user_id</th>\n",
              "      <th>name</th>\n",
              "      <th>recommended_song</th>\n",
              "      <th>artist</th>\n",
              "      <th>genre</th>\n",
              "      <th>recommendation_time</th>\n",
              "    </tr>\n",
              "  </thead>\n",
              "  <tbody>\n",
              "    <tr>\n",
              "      <td>1</td>\n",
              "      <td>Mickey</td>\n",
              "      <td>Hey Jude</td>\n",
              "      <td>Beatles</td>\n",
              "      <td>Classic</td>\n",
              "      <td>2024-12-15 15:05:29</td>\n",
              "    </tr>\n",
              "    <tr>\n",
              "      <td>1</td>\n",
              "      <td>Mickey</td>\n",
              "      <td>Yellow Submarine</td>\n",
              "      <td>Beatles</td>\n",
              "      <td>Classic</td>\n",
              "      <td>2024-12-15 15:05:29</td>\n",
              "    </tr>\n",
              "    <tr>\n",
              "      <td>2</td>\n",
              "      <td>Minnie</td>\n",
              "      <td>Yesterday</td>\n",
              "      <td>Beatles</td>\n",
              "      <td>Classic</td>\n",
              "      <td>2024-12-15 15:05:29</td>\n",
              "    </tr>\n",
              "    <tr>\n",
              "      <td>2</td>\n",
              "      <td>Minnie</td>\n",
              "      <td>Yesterday</td>\n",
              "      <td>Beatles</td>\n",
              "      <td>Classic</td>\n",
              "      <td>2024-12-15 15:05:29</td>\n",
              "    </tr>\n",
              "  </tbody>\n",
              "</table>"
            ]
          },
          "metadata": {}
        }
      ]
    },
    {
      "cell_type": "code",
      "source": [],
      "metadata": {
        "id": "vzikBybF1iBQ"
      },
      "execution_count": 36,
      "outputs": []
    }
  ]
}